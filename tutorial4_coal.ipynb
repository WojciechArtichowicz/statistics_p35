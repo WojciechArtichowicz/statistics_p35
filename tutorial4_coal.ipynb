{
 "cells": [
  {
   "cell_type": "code",
   "execution_count": 17,
   "metadata": {
    "collapsed": true,
    "deletable": true,
    "editable": true
   },
   "outputs": [],
   "source": [
    "import pandas as pd\n",
    "import numpy as np"
   ]
  },
  {
   "cell_type": "code",
   "execution_count": 18,
   "metadata": {
    "collapsed": false,
    "deletable": true,
    "editable": true
   },
   "outputs": [
    {
     "data": {
      "text/html": [
       "<div>\n",
       "<style scoped>\n",
       "    .dataframe tbody tr th:only-of-type {\n",
       "        vertical-align: middle;\n",
       "    }\n",
       "\n",
       "    .dataframe tbody tr th {\n",
       "        vertical-align: top;\n",
       "    }\n",
       "\n",
       "    .dataframe thead th {\n",
       "        text-align: right;\n",
       "    }\n",
       "</style>\n",
       "<table border=\"1\" class=\"dataframe\">\n",
       "  <thead>\n",
       "    <tr style=\"text-align: right;\">\n",
       "      <th></th>\n",
       "      <th>No</th>\n",
       "      <th>Year</th>\n",
       "      <th>Coal\n",
       "[mln t]</th>\n",
       "      <th>Thermal coal\n",
       "[mln t]</th>\n",
       "      <th>Lignite\n",
       "[mln t]</th>\n",
       "    </tr>\n",
       "  </thead>\n",
       "  <tbody>\n",
       "    <tr>\n",
       "      <th>0</th>\n",
       "      <td>1</td>\n",
       "      <td>2010</td>\n",
       "      <td>76.73</td>\n",
       "      <td>65.07</td>\n",
       "      <td>56.51</td>\n",
       "    </tr>\n",
       "    <tr>\n",
       "      <th>1</th>\n",
       "      <td>2</td>\n",
       "      <td>2011</td>\n",
       "      <td>76.45</td>\n",
       "      <td>65.01</td>\n",
       "      <td>62.84</td>\n",
       "    </tr>\n",
       "    <tr>\n",
       "      <th>2</th>\n",
       "      <td>3</td>\n",
       "      <td>2012</td>\n",
       "      <td>79.81</td>\n",
       "      <td>68.07</td>\n",
       "      <td>64.28</td>\n",
       "    </tr>\n",
       "    <tr>\n",
       "      <th>3</th>\n",
       "      <td>4</td>\n",
       "      <td>2013</td>\n",
       "      <td>77.06</td>\n",
       "      <td>64.94</td>\n",
       "      <td>65.85</td>\n",
       "    </tr>\n",
       "    <tr>\n",
       "      <th>4</th>\n",
       "      <td>5</td>\n",
       "      <td>2014</td>\n",
       "      <td>73.27</td>\n",
       "      <td>60.98</td>\n",
       "      <td>63.88</td>\n",
       "    </tr>\n",
       "    <tr>\n",
       "      <th>5</th>\n",
       "      <td>6</td>\n",
       "      <td>2015</td>\n",
       "      <td>72.69</td>\n",
       "      <td>59.70</td>\n",
       "      <td>63.13</td>\n",
       "    </tr>\n",
       "    <tr>\n",
       "      <th>6</th>\n",
       "      <td>7</td>\n",
       "      <td>2016</td>\n",
       "      <td>70.78</td>\n",
       "      <td>57.58</td>\n",
       "      <td>60.25</td>\n",
       "    </tr>\n",
       "    <tr>\n",
       "      <th>7</th>\n",
       "      <td>8</td>\n",
       "      <td>2017</td>\n",
       "      <td>65.98</td>\n",
       "      <td>53.49</td>\n",
       "      <td>61.16</td>\n",
       "    </tr>\n",
       "  </tbody>\n",
       "</table>\n",
       "</div>"
      ],
      "text/plain": [
       "   No  Year  Coal\\n[mln t]  Thermal coal\\n[mln t]  Lignite\\n[mln t]\n",
       "0   1  2010          76.73                  65.07             56.51\n",
       "1   2  2011          76.45                  65.01             62.84\n",
       "2   3  2012          79.81                  68.07             64.28\n",
       "3   4  2013          77.06                  64.94             65.85\n",
       "4   5  2014          73.27                  60.98             63.88\n",
       "5   6  2015          72.69                  59.70             63.13\n",
       "6   7  2016          70.78                  57.58             60.25\n",
       "7   8  2017          65.98                  53.49             61.16"
      ]
     },
     "execution_count": 18,
     "metadata": {},
     "output_type": "execute_result"
    }
   ],
   "source": [
    "df = pd.read_excel(\"data/coal.xlsx\") # import data from excel file\n",
    "df # display the data frame"
   ]
  },
  {
   "cell_type": "code",
   "execution_count": 19,
   "metadata": {
    "collapsed": false,
    "deletable": true,
    "editable": true
   },
   "outputs": [
    {
     "data": {
      "text/html": [
       "<div>\n",
       "<style scoped>\n",
       "    .dataframe tbody tr th:only-of-type {\n",
       "        vertical-align: middle;\n",
       "    }\n",
       "\n",
       "    .dataframe tbody tr th {\n",
       "        vertical-align: top;\n",
       "    }\n",
       "\n",
       "    .dataframe thead th {\n",
       "        text-align: right;\n",
       "    }\n",
       "</style>\n",
       "<table border=\"1\" class=\"dataframe\">\n",
       "  <thead>\n",
       "    <tr style=\"text-align: right;\">\n",
       "      <th></th>\n",
       "      <th>Year</th>\n",
       "      <th>Coal\n",
       "[mln t]</th>\n",
       "      <th>Thermal coal\n",
       "[mln t]</th>\n",
       "      <th>Lignite\n",
       "[mln t]</th>\n",
       "    </tr>\n",
       "  </thead>\n",
       "  <tbody>\n",
       "    <tr>\n",
       "      <th>0</th>\n",
       "      <td>2010</td>\n",
       "      <td>76.73</td>\n",
       "      <td>65.07</td>\n",
       "      <td>56.51</td>\n",
       "    </tr>\n",
       "    <tr>\n",
       "      <th>1</th>\n",
       "      <td>2011</td>\n",
       "      <td>76.45</td>\n",
       "      <td>65.01</td>\n",
       "      <td>62.84</td>\n",
       "    </tr>\n",
       "    <tr>\n",
       "      <th>2</th>\n",
       "      <td>2012</td>\n",
       "      <td>79.81</td>\n",
       "      <td>68.07</td>\n",
       "      <td>64.28</td>\n",
       "    </tr>\n",
       "    <tr>\n",
       "      <th>3</th>\n",
       "      <td>2013</td>\n",
       "      <td>77.06</td>\n",
       "      <td>64.94</td>\n",
       "      <td>65.85</td>\n",
       "    </tr>\n",
       "    <tr>\n",
       "      <th>4</th>\n",
       "      <td>2014</td>\n",
       "      <td>73.27</td>\n",
       "      <td>60.98</td>\n",
       "      <td>63.88</td>\n",
       "    </tr>\n",
       "    <tr>\n",
       "      <th>5</th>\n",
       "      <td>2015</td>\n",
       "      <td>72.69</td>\n",
       "      <td>59.70</td>\n",
       "      <td>63.13</td>\n",
       "    </tr>\n",
       "    <tr>\n",
       "      <th>6</th>\n",
       "      <td>2016</td>\n",
       "      <td>70.78</td>\n",
       "      <td>57.58</td>\n",
       "      <td>60.25</td>\n",
       "    </tr>\n",
       "    <tr>\n",
       "      <th>7</th>\n",
       "      <td>2017</td>\n",
       "      <td>65.98</td>\n",
       "      <td>53.49</td>\n",
       "      <td>61.16</td>\n",
       "    </tr>\n",
       "  </tbody>\n",
       "</table>\n",
       "</div>"
      ],
      "text/plain": [
       "   Year  Coal\\n[mln t]  Thermal coal\\n[mln t]  Lignite\\n[mln t]\n",
       "0  2010          76.73                  65.07             56.51\n",
       "1  2011          76.45                  65.01             62.84\n",
       "2  2012          79.81                  68.07             64.28\n",
       "3  2013          77.06                  64.94             65.85\n",
       "4  2014          73.27                  60.98             63.88\n",
       "5  2015          72.69                  59.70             63.13\n",
       "6  2016          70.78                  57.58             60.25\n",
       "7  2017          65.98                  53.49             61.16"
      ]
     },
     "execution_count": 19,
     "metadata": {},
     "output_type": "execute_result"
    }
   ],
   "source": [
    "del df[\"No\"] # remove the column with enumeration\n",
    "df # display the data frame"
   ]
  },
  {
   "cell_type": "code",
   "execution_count": 20,
   "metadata": {
    "collapsed": false,
    "deletable": true,
    "editable": true
   },
   "outputs": [
    {
     "data": {
      "text/html": [
       "<div>\n",
       "<style scoped>\n",
       "    .dataframe tbody tr th:only-of-type {\n",
       "        vertical-align: middle;\n",
       "    }\n",
       "\n",
       "    .dataframe tbody tr th {\n",
       "        vertical-align: top;\n",
       "    }\n",
       "\n",
       "    .dataframe thead th {\n",
       "        text-align: right;\n",
       "    }\n",
       "</style>\n",
       "<table border=\"1\" class=\"dataframe\">\n",
       "  <thead>\n",
       "    <tr style=\"text-align: right;\">\n",
       "      <th></th>\n",
       "      <th>Year</th>\n",
       "      <th>Coal\n",
       "[mln t]</th>\n",
       "      <th>Thermal coal\n",
       "[mln t]</th>\n",
       "      <th>Lignite\n",
       "[mln t]</th>\n",
       "      <th>Total</th>\n",
       "    </tr>\n",
       "  </thead>\n",
       "  <tbody>\n",
       "    <tr>\n",
       "      <th>0</th>\n",
       "      <td>2010</td>\n",
       "      <td>76.73</td>\n",
       "      <td>65.07</td>\n",
       "      <td>56.51</td>\n",
       "      <td>198.31</td>\n",
       "    </tr>\n",
       "    <tr>\n",
       "      <th>1</th>\n",
       "      <td>2011</td>\n",
       "      <td>76.45</td>\n",
       "      <td>65.01</td>\n",
       "      <td>62.84</td>\n",
       "      <td>204.30</td>\n",
       "    </tr>\n",
       "    <tr>\n",
       "      <th>2</th>\n",
       "      <td>2012</td>\n",
       "      <td>79.81</td>\n",
       "      <td>68.07</td>\n",
       "      <td>64.28</td>\n",
       "      <td>212.16</td>\n",
       "    </tr>\n",
       "    <tr>\n",
       "      <th>3</th>\n",
       "      <td>2013</td>\n",
       "      <td>77.06</td>\n",
       "      <td>64.94</td>\n",
       "      <td>65.85</td>\n",
       "      <td>207.85</td>\n",
       "    </tr>\n",
       "    <tr>\n",
       "      <th>4</th>\n",
       "      <td>2014</td>\n",
       "      <td>73.27</td>\n",
       "      <td>60.98</td>\n",
       "      <td>63.88</td>\n",
       "      <td>198.13</td>\n",
       "    </tr>\n",
       "    <tr>\n",
       "      <th>5</th>\n",
       "      <td>2015</td>\n",
       "      <td>72.69</td>\n",
       "      <td>59.70</td>\n",
       "      <td>63.13</td>\n",
       "      <td>195.52</td>\n",
       "    </tr>\n",
       "    <tr>\n",
       "      <th>6</th>\n",
       "      <td>2016</td>\n",
       "      <td>70.78</td>\n",
       "      <td>57.58</td>\n",
       "      <td>60.25</td>\n",
       "      <td>188.61</td>\n",
       "    </tr>\n",
       "    <tr>\n",
       "      <th>7</th>\n",
       "      <td>2017</td>\n",
       "      <td>65.98</td>\n",
       "      <td>53.49</td>\n",
       "      <td>61.16</td>\n",
       "      <td>180.63</td>\n",
       "    </tr>\n",
       "  </tbody>\n",
       "</table>\n",
       "</div>"
      ],
      "text/plain": [
       "   Year  Coal\\n[mln t]  Thermal coal\\n[mln t]  Lignite\\n[mln t]   Total\n",
       "0  2010          76.73                  65.07             56.51  198.31\n",
       "1  2011          76.45                  65.01             62.84  204.30\n",
       "2  2012          79.81                  68.07             64.28  212.16\n",
       "3  2013          77.06                  64.94             65.85  207.85\n",
       "4  2014          73.27                  60.98             63.88  198.13\n",
       "5  2015          72.69                  59.70             63.13  195.52\n",
       "6  2016          70.78                  57.58             60.25  188.61\n",
       "7  2017          65.98                  53.49             61.16  180.63"
      ]
     },
     "execution_count": 20,
     "metadata": {},
     "output_type": "execute_result"
    }
   ],
   "source": [
    "df[\"Total\"]=df[df.columns[1]]+df[df.columns[2]]+df[df.columns[3]] #adding a total column\n",
    "df # display the data frame"
   ]
  },
  {
   "cell_type": "code",
   "execution_count": 21,
   "metadata": {
    "collapsed": false,
    "deletable": true,
    "editable": true
   },
   "outputs": [
    {
     "data": {
      "text/html": [
       "<div>\n",
       "<style scoped>\n",
       "    .dataframe tbody tr th:only-of-type {\n",
       "        vertical-align: middle;\n",
       "    }\n",
       "\n",
       "    .dataframe tbody tr th {\n",
       "        vertical-align: top;\n",
       "    }\n",
       "\n",
       "    .dataframe thead th {\n",
       "        text-align: right;\n",
       "    }\n",
       "</style>\n",
       "<table border=\"1\" class=\"dataframe\">\n",
       "  <thead>\n",
       "    <tr style=\"text-align: right;\">\n",
       "      <th></th>\n",
       "      <th>Coal\n",
       "[mln t]</th>\n",
       "      <th>Thermal coal\n",
       "[mln t]</th>\n",
       "      <th>Lignite\n",
       "[mln t]</th>\n",
       "      <th>Total</th>\n",
       "    </tr>\n",
       "  </thead>\n",
       "  <tbody>\n",
       "    <tr>\n",
       "      <th>count</th>\n",
       "      <td>8.000000</td>\n",
       "      <td>8.000000</td>\n",
       "      <td>8.000000</td>\n",
       "      <td>8.000000</td>\n",
       "    </tr>\n",
       "    <tr>\n",
       "      <th>mean</th>\n",
       "      <td>74.096250</td>\n",
       "      <td>61.855000</td>\n",
       "      <td>62.237500</td>\n",
       "      <td>198.188750</td>\n",
       "    </tr>\n",
       "    <tr>\n",
       "      <th>std</th>\n",
       "      <td>4.366083</td>\n",
       "      <td>4.812071</td>\n",
       "      <td>2.903071</td>\n",
       "      <td>10.233597</td>\n",
       "    </tr>\n",
       "    <tr>\n",
       "      <th>min</th>\n",
       "      <td>65.980000</td>\n",
       "      <td>53.490000</td>\n",
       "      <td>56.510000</td>\n",
       "      <td>180.630000</td>\n",
       "    </tr>\n",
       "    <tr>\n",
       "      <th>25%</th>\n",
       "      <td>72.212500</td>\n",
       "      <td>59.170000</td>\n",
       "      <td>60.932500</td>\n",
       "      <td>193.792500</td>\n",
       "    </tr>\n",
       "    <tr>\n",
       "      <th>50%</th>\n",
       "      <td>74.860000</td>\n",
       "      <td>62.960000</td>\n",
       "      <td>62.985000</td>\n",
       "      <td>198.220000</td>\n",
       "    </tr>\n",
       "    <tr>\n",
       "      <th>75%</th>\n",
       "      <td>76.812500</td>\n",
       "      <td>65.025000</td>\n",
       "      <td>63.980000</td>\n",
       "      <td>205.187500</td>\n",
       "    </tr>\n",
       "    <tr>\n",
       "      <th>max</th>\n",
       "      <td>79.810000</td>\n",
       "      <td>68.070000</td>\n",
       "      <td>65.850000</td>\n",
       "      <td>212.160000</td>\n",
       "    </tr>\n",
       "  </tbody>\n",
       "</table>\n",
       "</div>"
      ],
      "text/plain": [
       "       Coal\\n[mln t]  Thermal coal\\n[mln t]  Lignite\\n[mln t]       Total\n",
       "count       8.000000               8.000000          8.000000    8.000000\n",
       "mean       74.096250              61.855000         62.237500  198.188750\n",
       "std         4.366083               4.812071          2.903071   10.233597\n",
       "min        65.980000              53.490000         56.510000  180.630000\n",
       "25%        72.212500              59.170000         60.932500  193.792500\n",
       "50%        74.860000              62.960000         62.985000  198.220000\n",
       "75%        76.812500              65.025000         63.980000  205.187500\n",
       "max        79.810000              68.070000         65.850000  212.160000"
      ]
     },
     "execution_count": 21,
     "metadata": {},
     "output_type": "execute_result"
    }
   ],
   "source": [
    "df[df.columns[1:]].describe() # count the basic characteristics of a sample for columns beginning from 1 to the last"
   ]
  },
  {
   "cell_type": "code",
   "execution_count": 22,
   "metadata": {
    "collapsed": false,
    "deletable": true,
    "editable": true
   },
   "outputs": [
    {
     "data": {
      "text/plain": [
       "Coal\\n[mln t]            3.416250\n",
       "Thermal coal\\n[mln t]    3.917500\n",
       "Lignite\\n[mln t]         2.198125\n",
       "Total                    7.466250\n",
       "dtype: float64"
      ]
     },
     "execution_count": 22,
     "metadata": {},
     "output_type": "execute_result"
    }
   ],
   "source": [
    "df[df.columns[1:]].mad() # compute average deviation of all columns except the year"
   ]
  },
  {
   "cell_type": "code",
   "execution_count": 23,
   "metadata": {
    "collapsed": false,
    "deletable": true,
    "editable": true
   },
   "outputs": [
    {
     "data": {
      "text/plain": [
       "<matplotlib.axes._subplots.AxesSubplot at 0x1e22d4c6ba8>"
      ]
     },
     "execution_count": 23,
     "metadata": {},
     "output_type": "execute_result"
    },
    {
     "data": {
      "image/png": "[encoded data removed]",
      "text/plain": [
       "<matplotlib.figure.Figure at 0x1e22c39a898>"
      ]
     },
     "metadata": {},
     "output_type": "display_data"
    }
   ],
   "source": [
    "df.plot.scatter(df.columns[0],df.columns[1]) # make a plot"
   ]
  },
  {
   "cell_type": "code",
   "execution_count": 24,
   "metadata": {
    "collapsed": false,
    "deletable": true,
    "editable": true
   },
   "outputs": [
    {
     "data": {
      "text/plain": [
       "<matplotlib.axes._subplots.AxesSubplot at 0x1e22d4af160>"
      ]
     },
     "execution_count": 24,
     "metadata": {},
     "output_type": "execute_result"
    },
    {
     "data": {
      "image/png": "[encoded data removed]",
      "text/plain": [
       "<matplotlib.figure.Figure at 0x1e22d51a0f0>"
      ]
     },
     "metadata": {},
     "output_type": "display_data"
    }
   ],
   "source": [
    "df.plot.scatter(df.columns[0],df.columns[2]) # make a plot"
   ]
  },
  {
   "cell_type": "code",
   "execution_count": 25,
   "metadata": {
    "collapsed": false,
    "deletable": true,
    "editable": true
   },
   "outputs": [
    {
     "data": {
      "text/plain": [
       "<matplotlib.axes._subplots.AxesSubplot at 0x1e22d580780>"
      ]
     },
     "execution_count": 25,
     "metadata": {},
     "output_type": "execute_result"
    },
    {
     "data": {
      "image/png": "[encoded data removed]",
      "text/plain": [
       "<matplotlib.figure.Figure at 0x1e2291cd438>"
      ]
     },
     "metadata": {},
     "output_type": "display_data"
    }
   ],
   "source": [
    "df.plot.scatter(df.columns[0],df.columns[3]) # make a plot"
   ]
  },
  {
   "cell_type": "code",
   "execution_count": 26,
   "metadata": {
    "collapsed": false,
    "deletable": true,
    "editable": true
   },
   "outputs": [
    {
     "data": {
      "text/plain": [
       "<matplotlib.axes._subplots.AxesSubplot at 0x1e22d5db198>"
      ]
     },
     "execution_count": 26,
     "metadata": {},
     "output_type": "execute_result"
    },
    {
     "data": {
      "image/png": "[encoded data removed]",
      "text/plain": [
       "<matplotlib.figure.Figure at 0x1e22d404550>"
      ]
     },
     "metadata": {},
     "output_type": "display_data"
    }
   ],
   "source": [
    "df.plot.scatter(df.columns[0],df.columns[4]) # make a plot"
   ]
  },
  {
   "cell_type": "code",
   "execution_count": 27,
   "metadata": {
    "collapsed": false,
    "deletable": true,
    "editable": true
   },
   "outputs": [
    {
     "data": {
      "text/html": [
       "<div>\n",
       "<style scoped>\n",
       "    .dataframe tbody tr th:only-of-type {\n",
       "        vertical-align: middle;\n",
       "    }\n",
       "\n",
       "    .dataframe tbody tr th {\n",
       "        vertical-align: top;\n",
       "    }\n",
       "\n",
       "    .dataframe thead th {\n",
       "        text-align: right;\n",
       "    }\n",
       "</style>\n",
       "<table border=\"1\" class=\"dataframe\">\n",
       "  <thead>\n",
       "    <tr style=\"text-align: right;\">\n",
       "      <th></th>\n",
       "      <th>Year</th>\n",
       "      <th>Coal\n",
       "[mln t]</th>\n",
       "      <th>Thermal coal\n",
       "[mln t]</th>\n",
       "      <th>Lignite\n",
       "[mln t]</th>\n",
       "      <th>Total</th>\n",
       "      <th>DIndex</th>\n",
       "    </tr>\n",
       "  </thead>\n",
       "  <tbody>\n",
       "    <tr>\n",
       "      <th>0</th>\n",
       "      <td>2010</td>\n",
       "      <td>76.73</td>\n",
       "      <td>65.07</td>\n",
       "      <td>56.51</td>\n",
       "      <td>198.31</td>\n",
       "      <td>NaN</td>\n",
       "    </tr>\n",
       "    <tr>\n",
       "      <th>1</th>\n",
       "      <td>2011</td>\n",
       "      <td>76.45</td>\n",
       "      <td>65.01</td>\n",
       "      <td>62.84</td>\n",
       "      <td>204.30</td>\n",
       "      <td>103.020523</td>\n",
       "    </tr>\n",
       "    <tr>\n",
       "      <th>2</th>\n",
       "      <td>2012</td>\n",
       "      <td>79.81</td>\n",
       "      <td>68.07</td>\n",
       "      <td>64.28</td>\n",
       "      <td>212.16</td>\n",
       "      <td>103.847283</td>\n",
       "    </tr>\n",
       "    <tr>\n",
       "      <th>3</th>\n",
       "      <td>2013</td>\n",
       "      <td>77.06</td>\n",
       "      <td>64.94</td>\n",
       "      <td>65.85</td>\n",
       "      <td>207.85</td>\n",
       "      <td>97.968514</td>\n",
       "    </tr>\n",
       "    <tr>\n",
       "      <th>4</th>\n",
       "      <td>2014</td>\n",
       "      <td>73.27</td>\n",
       "      <td>60.98</td>\n",
       "      <td>63.88</td>\n",
       "      <td>198.13</td>\n",
       "      <td>95.323551</td>\n",
       "    </tr>\n",
       "    <tr>\n",
       "      <th>5</th>\n",
       "      <td>2015</td>\n",
       "      <td>72.69</td>\n",
       "      <td>59.70</td>\n",
       "      <td>63.13</td>\n",
       "      <td>195.52</td>\n",
       "      <td>98.682683</td>\n",
       "    </tr>\n",
       "    <tr>\n",
       "      <th>6</th>\n",
       "      <td>2016</td>\n",
       "      <td>70.78</td>\n",
       "      <td>57.58</td>\n",
       "      <td>60.25</td>\n",
       "      <td>188.61</td>\n",
       "      <td>96.465835</td>\n",
       "    </tr>\n",
       "    <tr>\n",
       "      <th>7</th>\n",
       "      <td>2017</td>\n",
       "      <td>65.98</td>\n",
       "      <td>53.49</td>\n",
       "      <td>61.16</td>\n",
       "      <td>180.63</td>\n",
       "      <td>95.769047</td>\n",
       "    </tr>\n",
       "  </tbody>\n",
       "</table>\n",
       "</div>"
      ],
      "text/plain": [
       "   Year  Coal\\n[mln t]  Thermal coal\\n[mln t]  Lignite\\n[mln t]   Total  \\\n",
       "0  2010          76.73                  65.07             56.51  198.31   \n",
       "1  2011          76.45                  65.01             62.84  204.30   \n",
       "2  2012          79.81                  68.07             64.28  212.16   \n",
       "3  2013          77.06                  64.94             65.85  207.85   \n",
       "4  2014          73.27                  60.98             63.88  198.13   \n",
       "5  2015          72.69                  59.70             63.13  195.52   \n",
       "6  2016          70.78                  57.58             60.25  188.61   \n",
       "7  2017          65.98                  53.49             61.16  180.63   \n",
       "\n",
       "       DIndex  \n",
       "0         NaN  \n",
       "1  103.020523  \n",
       "2  103.847283  \n",
       "3   97.968514  \n",
       "4   95.323551  \n",
       "5   98.682683  \n",
       "6   96.465835  \n",
       "7   95.769047  "
      ]
     },
     "execution_count": 27,
     "metadata": {},
     "output_type": "execute_result"
    }
   ],
   "source": [
    "DIndex = 100*df[\"Total\"][1:].values/df[\"Total\"][0:-1].values # compute the dynamic index\n",
    "df[\"DIndex\"] = pd.concat([pd.DataFrame([np.NaN]),pd.DataFrame(DIndex)], ignore_index=True) #add that index as a new column\n",
    "df #display the dataframe"
   ]
  },
  {
   "cell_type": "code",
   "execution_count": 28,
   "metadata": {
    "collapsed": false,
    "deletable": true,
    "editable": true
   },
   "outputs": [
    {
     "data": {
      "text/plain": [
       "<matplotlib.axes._subplots.AxesSubplot at 0x1e22d516518>"
      ]
     },
     "execution_count": 28,
     "metadata": {},
     "output_type": "execute_result"
    },
    {
     "data": {
      "image/png": "[encoded data removed]",
      "text/plain": [
       "<matplotlib.figure.Figure at 0x1e22d43ce48>"
      ]
     },
     "metadata": {},
     "output_type": "display_data"
    }
   ],
   "source": [
    "df.plot.scatter(df.columns[0],df.columns[5]) # plot the index"
   ]
  }
 ],
 "metadata": {
  "kernelspec": {
   "display_name": "Python 3",
   "language": "python",
   "name": "python3"
  },
  "language_info": {
   "codemirror_mode": {
    "name": "ipython",
    "version": 3
   },
   "file_extension": ".py",
   "mimetype": "text/x-python",
   "name": "python",
   "nbconvert_exporter": "python",
   "pygments_lexer": "ipython3",
   "version": "3.5.2"
  }
 },
 "nbformat": 4,
 "nbformat_minor": 2
}
